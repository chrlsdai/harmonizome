{
 "cells": [
  {
   "cell_type": "code",
   "execution_count": 1,
   "metadata": {
    "tags": []
   },
   "outputs": [],
   "source": [
    "import sys\n",
    "sys.path.append('../harmonizome')\n",
    "\n",
    "import pandas as pd\n",
    "import numpy as np\n",
    "import utility_functions as uf\n",
    "import timeit\n",
    "import itertools\n",
    "import scipy.spatial.distance as dist"
   ]
  },
  {
   "cell_type": "code",
   "execution_count": 6,
   "metadata": {
    "tags": []
   },
   "outputs": [
    {
     "output_type": "stream",
     "name": "stdout",
     "text": "The autoreload extension is already loaded. To reload it, use:\n  %reload_ext autoreload\nThe memory_profiler extension is already loaded. To reload it, use:\n  %reload_ext memory_profiler\n"
    }
   ],
   "source": [
    "%load_ext autoreload\n",
    "%load_ext memory_profiler\n",
    "%autoreload 2"
   ]
  },
  {
   "cell_type": "markdown",
   "metadata": {},
   "source": [
    "### removeAndInpute"
   ]
  },
  {
   "cell_type": "code",
   "execution_count": null,
   "metadata": {},
   "outputs": [],
   "source": [
    "df = pd.DataFrame(data=np.random.randint(10,size=(5, 10)))\n",
    "df = df.mask(np.random.random(df.shape) < .1)\n",
    "df.head()"
   ]
  },
  {
   "cell_type": "code",
   "execution_count": null,
   "metadata": {},
   "outputs": [],
   "source": [
    "df.shape"
   ]
  },
  {
   "cell_type": "markdown",
   "metadata": {},
   "source": [
    "## makeBinaryMatrix"
   ]
  },
  {
   "cell_type": "code",
   "execution_count": null,
   "metadata": {},
   "outputs": [],
   "source": [
    "df = pd.DataFrame(data=np.random.randint(3000,size=(7500, 2)), columns=['Gene Symbol', 'Attributes'])\n",
    "df = df.set_index('Gene Symbol')\n",
    "df.head()"
   ]
  },
  {
   "cell_type": "code",
   "execution_count": null,
   "metadata": {
    "tags": []
   },
   "outputs": [],
   "source": [
    "%mprun -f uf.createBinaryMatrix binary_matrix = uf.createBinaryMatrix(df)"
   ]
  },
  {
   "cell_type": "code",
   "execution_count": null,
   "metadata": {
    "tags": []
   },
   "outputs": [],
   "source": [
    "%%memit\n",
    "binary_matrix.shape"
   ]
  },
  {
   "cell_type": "code",
   "execution_count": null,
   "metadata": {
    "tags": []
   },
   "outputs": [],
   "source": [
    "%mprun -f uf.createSimilarityMatrix similarityuf = uf.createSimilarityMatrix(binary_matrix, 'jaccard', sparse=True)"
   ]
  },
  {
   "cell_type": "code",
   "execution_count": null,
   "metadata": {
    "tags": []
   },
   "outputs": [],
   "source": [
    "%mprun -f uf.createSimilarityMatrix similarity_matrix = uf.createSimilarityMatrix(binary_matrix, 'jaccard')"
   ]
  },
  {
   "cell_type": "code",
   "execution_count": null,
   "metadata": {},
   "outputs": [],
   "source": [
    "np.allclose(similarityuf, similarity_matrix)"
   ]
  },
  {
   "cell_type": "code",
   "execution_count": null,
   "metadata": {},
   "outputs": [],
   "source": [
    "df = pd.DataFrame(data=np.random.randint(3000,size=(10000, 10000)))\n",
    "np.log2(df + 1)"
   ]
  },
  {
   "cell_type": "code",
   "execution_count": null,
   "metadata": {
    "tags": []
   },
   "outputs": [],
   "source": [
    "uf.zscore(df)"
   ]
  },
  {
   "cell_type": "code",
   "execution_count": 3,
   "metadata": {},
   "outputs": [
    {
     "output_type": "execute_result",
     "data": {
      "text/plain": "Cell Line     0    1    2    3    4    5    6    7    8    9   ...   90   91  \\\nGene Symbol                                                    ...             \n0            298  259   68  129  262  232  291   82  116  266  ...  133  270   \n1            237   51  159  240  198  258  225  159   27  227  ...   25  130   \n2             38  138  227   18    5   72   62  282  284   26  ...   74  252   \n3             99  124   80  201  129  100   75  125  193    1  ...  168  141   \n4            180   52  257   61   34  299  213   73  117  125  ...  188  294   \n\nCell Line     92   93   94   95   96   97   98   99  \nGene Symbol                                          \n0            151  292  267   78  233  146   44  140  \n1             60  281  284   27   36   65   36  268  \n2             77  196  299  279  299  163   53  130  \n3            232  288  279  263   14   27   36  142  \n4            135   98  278   69  245  179  218  268  \n\n[5 rows x 100 columns]",
      "text/html": "<div>\n<style scoped>\n    .dataframe tbody tr th:only-of-type {\n        vertical-align: middle;\n    }\n\n    .dataframe tbody tr th {\n        vertical-align: top;\n    }\n\n    .dataframe thead th {\n        text-align: right;\n    }\n</style>\n<table border=\"1\" class=\"dataframe\">\n  <thead>\n    <tr style=\"text-align: right;\">\n      <th>Cell Line</th>\n      <th>0</th>\n      <th>1</th>\n      <th>2</th>\n      <th>3</th>\n      <th>4</th>\n      <th>5</th>\n      <th>6</th>\n      <th>7</th>\n      <th>8</th>\n      <th>9</th>\n      <th>...</th>\n      <th>90</th>\n      <th>91</th>\n      <th>92</th>\n      <th>93</th>\n      <th>94</th>\n      <th>95</th>\n      <th>96</th>\n      <th>97</th>\n      <th>98</th>\n      <th>99</th>\n    </tr>\n    <tr>\n      <th>Gene Symbol</th>\n      <th></th>\n      <th></th>\n      <th></th>\n      <th></th>\n      <th></th>\n      <th></th>\n      <th></th>\n      <th></th>\n      <th></th>\n      <th></th>\n      <th></th>\n      <th></th>\n      <th></th>\n      <th></th>\n      <th></th>\n      <th></th>\n      <th></th>\n      <th></th>\n      <th></th>\n      <th></th>\n      <th></th>\n    </tr>\n  </thead>\n  <tbody>\n    <tr>\n      <th>0</th>\n      <td>298</td>\n      <td>259</td>\n      <td>68</td>\n      <td>129</td>\n      <td>262</td>\n      <td>232</td>\n      <td>291</td>\n      <td>82</td>\n      <td>116</td>\n      <td>266</td>\n      <td>...</td>\n      <td>133</td>\n      <td>270</td>\n      <td>151</td>\n      <td>292</td>\n      <td>267</td>\n      <td>78</td>\n      <td>233</td>\n      <td>146</td>\n      <td>44</td>\n      <td>140</td>\n    </tr>\n    <tr>\n      <th>1</th>\n      <td>237</td>\n      <td>51</td>\n      <td>159</td>\n      <td>240</td>\n      <td>198</td>\n      <td>258</td>\n      <td>225</td>\n      <td>159</td>\n      <td>27</td>\n      <td>227</td>\n      <td>...</td>\n      <td>25</td>\n      <td>130</td>\n      <td>60</td>\n      <td>281</td>\n      <td>284</td>\n      <td>27</td>\n      <td>36</td>\n      <td>65</td>\n      <td>36</td>\n      <td>268</td>\n    </tr>\n    <tr>\n      <th>2</th>\n      <td>38</td>\n      <td>138</td>\n      <td>227</td>\n      <td>18</td>\n      <td>5</td>\n      <td>72</td>\n      <td>62</td>\n      <td>282</td>\n      <td>284</td>\n      <td>26</td>\n      <td>...</td>\n      <td>74</td>\n      <td>252</td>\n      <td>77</td>\n      <td>196</td>\n      <td>299</td>\n      <td>279</td>\n      <td>299</td>\n      <td>163</td>\n      <td>53</td>\n      <td>130</td>\n    </tr>\n    <tr>\n      <th>3</th>\n      <td>99</td>\n      <td>124</td>\n      <td>80</td>\n      <td>201</td>\n      <td>129</td>\n      <td>100</td>\n      <td>75</td>\n      <td>125</td>\n      <td>193</td>\n      <td>1</td>\n      <td>...</td>\n      <td>168</td>\n      <td>141</td>\n      <td>232</td>\n      <td>288</td>\n      <td>279</td>\n      <td>263</td>\n      <td>14</td>\n      <td>27</td>\n      <td>36</td>\n      <td>142</td>\n    </tr>\n    <tr>\n      <th>4</th>\n      <td>180</td>\n      <td>52</td>\n      <td>257</td>\n      <td>61</td>\n      <td>34</td>\n      <td>299</td>\n      <td>213</td>\n      <td>73</td>\n      <td>117</td>\n      <td>125</td>\n      <td>...</td>\n      <td>188</td>\n      <td>294</td>\n      <td>135</td>\n      <td>98</td>\n      <td>278</td>\n      <td>69</td>\n      <td>245</td>\n      <td>179</td>\n      <td>218</td>\n      <td>268</td>\n    </tr>\n  </tbody>\n</table>\n<p>5 rows × 100 columns</p>\n</div>"
     },
     "metadata": {},
     "execution_count": 3
    }
   ],
   "source": [
    "df = pd.DataFrame(data=np.random.randint(300,size=(100, 100)))\n",
    "df.index.name='Gene Symbol'\n",
    "df.columns.name='Cell Line'\n",
    "df.head()"
   ]
  },
  {
   "cell_type": "code",
   "execution_count": 8,
   "metadata": {
    "tags": []
   },
   "outputs": [
    {
     "output_type": "stream",
     "name": "stdout",
     "text": "hello\nThe number of statisticaly relevent gene-attribute associations is: 9982\n"
    },
    {
     "output_type": "execute_result",
     "data": {
      "text/plain": "Gene Symbol  Cell Line\n0            0            298\n             1            259\n             2             68\n             3            129\n             4            262\n                         ... \n99           95           198\n             96            57\n             97           149\n             98           268\n             99            72\nName: Weight, Length: 10000, dtype: category\nCategories (300, int64): [0, 1, 2, 3, ..., 296, 297, 298, 299]"
     },
     "metadata": {},
     "execution_count": 8
    }
   ],
   "source": [
    "uf.createGeneAttributeEdgeList(df)"
   ]
  },
  {
   "cell_type": "code",
   "execution_count": null,
   "metadata": {},
   "outputs": [],
   "source": [
    "uf."
   ]
  }
 ],
 "metadata": {
  "language_info": {
   "codemirror_mode": {
    "name": "ipython",
    "version": 3
   },
   "file_extension": ".py",
   "mimetype": "text/x-python",
   "name": "python",
   "nbconvert_exporter": "python",
   "pygments_lexer": "ipython3",
   "version": "3.8.0-final"
  },
  "orig_nbformat": 2,
  "kernelspec": {
   "name": "python38064bitd624481654e24397bc0561c80541aebb",
   "display_name": "Python 3.8.0 64-bit"
  }
 },
 "nbformat": 4,
 "nbformat_minor": 2
}