{
 "cells": [
  {
   "cell_type": "code",
   "execution_count": 1,
   "metadata": {
    "tags": []
   },
   "outputs": [],
   "source": [
    "import sys\n",
    "sys.path.append('../harmonizome')\n",
    "\n",
    "import pandas as pd\n",
    "import numpy as np\n",
    "import utility_functions as uf\n",
    "import lookup\n",
    "import timeit\n",
    "import itertools\n",
    "import scipy.spatial.distance as dist"
   ]
  },
  {
   "cell_type": "code",
   "execution_count": 2,
   "metadata": {
    "tags": []
   },
   "outputs": [],
   "source": [
    "%load_ext autoreload\n",
    "%load_ext memory_profiler\n",
    "%autoreload 2"
   ]
  },
  {
   "cell_type": "markdown",
   "metadata": {},
   "source": [
    "### removeAndInpute"
   ]
  },
  {
   "cell_type": "code",
   "execution_count": null,
   "metadata": {},
   "outputs": [],
   "source": [
    "df = pd.DataFrame(data=np.random.randint(10,size=(5, 10)))\n",
    "df = df.mask(np.random.random(df.shape) < .1)\n",
    "df.head()"
   ]
  },
  {
   "cell_type": "code",
   "execution_count": null,
   "metadata": {},
   "outputs": [],
   "source": [
    "df.shape"
   ]
  },
  {
   "cell_type": "markdown",
   "metadata": {},
   "source": [
    "binary_matrix"
   ]
  },
  {
   "cell_type": "code",
   "execution_count": null,
   "metadata": {},
   "outputs": [],
   "source": [
    "df = pd.DataFrame(data=np.random.randint(3000,size=(7500, 2)), columns=['Gene Symbol', 'Attributes'])\n",
    "df = df.set_index('Gene Symbol')\n",
    "df.head()"
   ]
  },
  {
   "cell_type": "code",
   "execution_count": null,
   "metadata": {
    "tags": []
   },
   "outputs": [],
   "source": [
    "%mprun -f uf.binary_matrix binary_matrix = uf.createBinaryMatrix(df)"
   ]
  },
  {
   "cell_type": "code",
   "execution_count": null,
   "metadata": {
    "tags": []
   },
   "outputs": [],
   "source": [
    "%%memit\n",
    "binary_matrix.shape"
   ]
  },
  {
   "cell_type": "code",
   "execution_count": null,
   "metadata": {
    "tags": []
   },
   "outputs": [],
   "source": [
    "%mprun -f uf.createSimilarityMatrix similarityuf = uf.createSimilarityMatrix(binary_matrix, 'jaccard', sparse=True)"
   ]
  },
  {
   "cell_type": "code",
   "execution_count": null,
   "metadata": {
    "tags": []
   },
   "outputs": [],
   "source": [
    "%mprun -f uf.createSimilarityMatrix similarity_matrix = uf.createSimilarityMatrix(binary_matrix, 'jaccard')"
   ]
  },
  {
   "cell_type": "code",
   "execution_count": null,
   "metadata": {},
   "outputs": [],
   "source": [
    "np.allclose(similarityuf, similarity_matrix)"
   ]
  },
  {
   "cell_type": "code",
   "execution_count": null,
   "metadata": {},
   "outputs": [],
   "source": [
    "df = pd.DataFrame(data=np.random.randint(3000,size=(10000, 10000)))\n",
    "np.log2(df + 1)"
   ]
  },
  {
   "cell_type": "code",
   "execution_count": null,
   "metadata": {
    "tags": []
   },
   "outputs": [],
   "source": [
    "uf.zscore(df)"
   ]
  },
  {
   "cell_type": "code",
   "execution_count": 3,
   "metadata": {},
   "outputs": [
    {
     "output_type": "execute_result",
     "data": {
      "text/plain": "Cell Line     0    1    2    3    4    5    6    7    8    9   ...   90   91  \\\nGene Symbol                                                    ...             \n0            132   52  144    2   46  283  251   18  185  232  ...  172  281   \n1            254  272  144   50  182   61  223   59  249  161  ...  284   62   \n2            258   97  280    0  203   47  295  267  264  162  ...  158  104   \n3            155   58  148  249  234  153   34  269  226    3  ...  190  270   \n4            148   35   44  219   72   32   14   12   92  103  ...  289   50   \n\nCell Line     92   93   94   95   96   97   98   99  \nGene Symbol                                          \n0             38  213  113   34  177  210   16   73  \n1            268  192  155   30  190  253   67   83  \n2            280  248  261  142  209  261  219   60  \n3            191   59  166  116  142   31  275  210  \n4            270   45  232   98  151   77  143  169  \n\n[5 rows x 100 columns]",
      "text/html": "<div>\n<style scoped>\n    .dataframe tbody tr th:only-of-type {\n        vertical-align: middle;\n    }\n\n    .dataframe tbody tr th {\n        vertical-align: top;\n    }\n\n    .dataframe thead th {\n        text-align: right;\n    }\n</style>\n<table border=\"1\" class=\"dataframe\">\n  <thead>\n    <tr style=\"text-align: right;\">\n      <th>Cell Line</th>\n      <th>0</th>\n      <th>1</th>\n      <th>2</th>\n      <th>3</th>\n      <th>4</th>\n      <th>5</th>\n      <th>6</th>\n      <th>7</th>\n      <th>8</th>\n      <th>9</th>\n      <th>...</th>\n      <th>90</th>\n      <th>91</th>\n      <th>92</th>\n      <th>93</th>\n      <th>94</th>\n      <th>95</th>\n      <th>96</th>\n      <th>97</th>\n      <th>98</th>\n      <th>99</th>\n    </tr>\n    <tr>\n      <th>Gene Symbol</th>\n      <th></th>\n      <th></th>\n      <th></th>\n      <th></th>\n      <th></th>\n      <th></th>\n      <th></th>\n      <th></th>\n      <th></th>\n      <th></th>\n      <th></th>\n      <th></th>\n      <th></th>\n      <th></th>\n      <th></th>\n      <th></th>\n      <th></th>\n      <th></th>\n      <th></th>\n      <th></th>\n      <th></th>\n    </tr>\n  </thead>\n  <tbody>\n    <tr>\n      <th>0</th>\n      <td>132</td>\n      <td>52</td>\n      <td>144</td>\n      <td>2</td>\n      <td>46</td>\n      <td>283</td>\n      <td>251</td>\n      <td>18</td>\n      <td>185</td>\n      <td>232</td>\n      <td>...</td>\n      <td>172</td>\n      <td>281</td>\n      <td>38</td>\n      <td>213</td>\n      <td>113</td>\n      <td>34</td>\n      <td>177</td>\n      <td>210</td>\n      <td>16</td>\n      <td>73</td>\n    </tr>\n    <tr>\n      <th>1</th>\n      <td>254</td>\n      <td>272</td>\n      <td>144</td>\n      <td>50</td>\n      <td>182</td>\n      <td>61</td>\n      <td>223</td>\n      <td>59</td>\n      <td>249</td>\n      <td>161</td>\n      <td>...</td>\n      <td>284</td>\n      <td>62</td>\n      <td>268</td>\n      <td>192</td>\n      <td>155</td>\n      <td>30</td>\n      <td>190</td>\n      <td>253</td>\n      <td>67</td>\n      <td>83</td>\n    </tr>\n    <tr>\n      <th>2</th>\n      <td>258</td>\n      <td>97</td>\n      <td>280</td>\n      <td>0</td>\n      <td>203</td>\n      <td>47</td>\n      <td>295</td>\n      <td>267</td>\n      <td>264</td>\n      <td>162</td>\n      <td>...</td>\n      <td>158</td>\n      <td>104</td>\n      <td>280</td>\n      <td>248</td>\n      <td>261</td>\n      <td>142</td>\n      <td>209</td>\n      <td>261</td>\n      <td>219</td>\n      <td>60</td>\n    </tr>\n    <tr>\n      <th>3</th>\n      <td>155</td>\n      <td>58</td>\n      <td>148</td>\n      <td>249</td>\n      <td>234</td>\n      <td>153</td>\n      <td>34</td>\n      <td>269</td>\n      <td>226</td>\n      <td>3</td>\n      <td>...</td>\n      <td>190</td>\n      <td>270</td>\n      <td>191</td>\n      <td>59</td>\n      <td>166</td>\n      <td>116</td>\n      <td>142</td>\n      <td>31</td>\n      <td>275</td>\n      <td>210</td>\n    </tr>\n    <tr>\n      <th>4</th>\n      <td>148</td>\n      <td>35</td>\n      <td>44</td>\n      <td>219</td>\n      <td>72</td>\n      <td>32</td>\n      <td>14</td>\n      <td>12</td>\n      <td>92</td>\n      <td>103</td>\n      <td>...</td>\n      <td>289</td>\n      <td>50</td>\n      <td>270</td>\n      <td>45</td>\n      <td>232</td>\n      <td>98</td>\n      <td>151</td>\n      <td>77</td>\n      <td>143</td>\n      <td>169</td>\n    </tr>\n  </tbody>\n</table>\n<p>5 rows × 100 columns</p>\n</div>"
     },
     "metadata": {},
     "execution_count": 3
    }
   ],
   "source": [
    "df = pd.DataFrame(data=np.random.randint(300,size=(100, 100)))\n",
    "df.index.name='Gene Symbol'\n",
    "df.columns.name='Cell Line'\n",
    "df.head()"
   ]
  },
  {
   "cell_type": "code",
   "execution_count": 4,
   "metadata": {
    "tags": []
   },
   "outputs": [
    {
     "output_type": "stream",
     "name": "stdout",
     "text": "The number of statisticaly relevent gene-attribute associations is: 9954\n"
    },
    {
     "output_type": "execute_result",
     "data": {
      "text/plain": "Gene Symbol  Cell Line\n0            0            132\n             1             52\n             2            144\n             3              2\n             4             46\n                         ... \n99           95           184\n             96           183\n             97           133\n             98             4\n             99           227\nName: Weight, Length: 10000, dtype: int64"
     },
     "metadata": {},
     "execution_count": 4
    }
   ],
   "source": [
    "uf.edge_list(df)"
   ]
  },
  {
   "cell_type": "code",
   "execution_count": 10,
   "metadata": {
    "tags": []
   },
   "outputs": [
    {
     "output_type": "stream",
     "name": "stderr",
     "text": "100%|██████████| 100/100 [00:00<00:00, 262801.00it/s]\n"
    },
    {
     "output_type": "execute_result",
     "data": {
      "text/plain": "             Gene ID\nGene Symbol         \n0                 -1\n1                 -1\n2                 -1\n3                100\n4                 -1\n...              ...\n95                -1\n96                -1\n97                -1\n98                -1\n99                -1\n\n[100 rows x 1 columns]",
      "text/html": "<div>\n<style scoped>\n    .dataframe tbody tr th:only-of-type {\n        vertical-align: middle;\n    }\n\n    .dataframe tbody tr th {\n        vertical-align: top;\n    }\n\n    .dataframe thead th {\n        text-align: right;\n    }\n</style>\n<table border=\"1\" class=\"dataframe\">\n  <thead>\n    <tr style=\"text-align: right;\">\n      <th></th>\n      <th>Gene ID</th>\n    </tr>\n    <tr>\n      <th>Gene Symbol</th>\n      <th></th>\n    </tr>\n  </thead>\n  <tbody>\n    <tr>\n      <th>0</th>\n      <td>-1</td>\n    </tr>\n    <tr>\n      <th>1</th>\n      <td>-1</td>\n    </tr>\n    <tr>\n      <th>2</th>\n      <td>-1</td>\n    </tr>\n    <tr>\n      <th>3</th>\n      <td>100</td>\n    </tr>\n    <tr>\n      <th>4</th>\n      <td>-1</td>\n    </tr>\n    <tr>\n      <th>...</th>\n      <td>...</td>\n    </tr>\n    <tr>\n      <th>95</th>\n      <td>-1</td>\n    </tr>\n    <tr>\n      <th>96</th>\n      <td>-1</td>\n    </tr>\n    <tr>\n      <th>97</th>\n      <td>-1</td>\n    </tr>\n    <tr>\n      <th>98</th>\n      <td>-1</td>\n    </tr>\n    <tr>\n      <th>99</th>\n      <td>-1</td>\n    </tr>\n  </tbody>\n</table>\n<p>100 rows × 1 columns</p>\n</div>"
     },
     "metadata": {},
     "execution_count": 10
    }
   ],
   "source": [
    "geneid_lookup = dict()\n",
    "geneid_lookup[3] = 100\n",
    "uf.gene_list(df, geneid_lookup)"
   ]
  },
  {
   "cell_type": "code",
   "execution_count": 5,
   "metadata": {
    "tags": []
   },
   "outputs": [
    {
     "output_type": "stream",
     "name": "stderr",
     "text": "Gathering sources: 100%|██████████| 3/3 [00:09<00:00,  3.09s/it]\n"
    }
   ],
   "source": [
    "sym_lookup, _ = lookup.get_lookups(mapfrom='ensembl')"
   ]
  }
 ],
 "metadata": {
  "language_info": {
   "codemirror_mode": {
    "name": "ipython",
    "version": 3
   },
   "file_extension": ".py",
   "mimetype": "text/x-python",
   "name": "python",
   "nbconvert_exporter": "python",
   "pygments_lexer": "ipython3",
   "version": "3.8.0-final"
  },
  "orig_nbformat": 2,
  "kernelspec": {
   "name": "python38064bitd624481654e24397bc0561c80541aebb",
   "display_name": "Python 3.8.0 64-bit"
  }
 },
 "nbformat": 4,
 "nbformat_minor": 2
}