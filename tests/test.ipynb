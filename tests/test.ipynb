{
 "cells": [
  {
   "cell_type": "code",
   "execution_count": 1,
   "metadata": {
    "tags": []
   },
   "outputs": [],
   "source": [
    "import sys\n",
    "sys.path.append('../harmonizome')\n",
    "\n",
    "import pandas as pd\n",
    "import numpy as np\n",
    "import utility_functions as uf\n",
    "import timeit\n",
    "import itertools\n",
    "import scipy.spatial.distance as dist"
   ]
  },
  {
   "cell_type": "code",
   "execution_count": 2,
   "metadata": {
    "tags": []
   },
   "outputs": [],
   "source": [
    "%load_ext autoreload\n",
    "%load_ext memory_profiler\n",
    "%autoreload 2"
   ]
  },
  {
   "cell_type": "markdown",
   "metadata": {},
   "source": [
    "### removeAndInpute"
   ]
  },
  {
   "cell_type": "code",
   "execution_count": 3,
   "metadata": {},
   "outputs": [
    {
     "output_type": "execute_result",
     "data": {
      "text/plain": "   0  1    2  3  4    5    6  7    8    9\n0  2  1  7.0  3  6  NaN  4.0  2  8.0  3.0\n1  6  8  5.0  0  4  3.0  NaN  5  8.0  NaN\n2  5  8  2.0  7  2  7.0  1.0  0  6.0  6.0\n3  3  0  NaN  2  2  2.0  5.0  1  2.0  7.0\n4  9  8  5.0  5  3  NaN  4.0  3  NaN  8.0",
      "text/html": "<div>\n<style scoped>\n    .dataframe tbody tr th:only-of-type {\n        vertical-align: middle;\n    }\n\n    .dataframe tbody tr th {\n        vertical-align: top;\n    }\n\n    .dataframe thead th {\n        text-align: right;\n    }\n</style>\n<table border=\"1\" class=\"dataframe\">\n  <thead>\n    <tr style=\"text-align: right;\">\n      <th></th>\n      <th>0</th>\n      <th>1</th>\n      <th>2</th>\n      <th>3</th>\n      <th>4</th>\n      <th>5</th>\n      <th>6</th>\n      <th>7</th>\n      <th>8</th>\n      <th>9</th>\n    </tr>\n  </thead>\n  <tbody>\n    <tr>\n      <th>0</th>\n      <td>2</td>\n      <td>1</td>\n      <td>7.0</td>\n      <td>3</td>\n      <td>6</td>\n      <td>NaN</td>\n      <td>4.0</td>\n      <td>2</td>\n      <td>8.0</td>\n      <td>3.0</td>\n    </tr>\n    <tr>\n      <th>1</th>\n      <td>6</td>\n      <td>8</td>\n      <td>5.0</td>\n      <td>0</td>\n      <td>4</td>\n      <td>3.0</td>\n      <td>NaN</td>\n      <td>5</td>\n      <td>8.0</td>\n      <td>NaN</td>\n    </tr>\n    <tr>\n      <th>2</th>\n      <td>5</td>\n      <td>8</td>\n      <td>2.0</td>\n      <td>7</td>\n      <td>2</td>\n      <td>7.0</td>\n      <td>1.0</td>\n      <td>0</td>\n      <td>6.0</td>\n      <td>6.0</td>\n    </tr>\n    <tr>\n      <th>3</th>\n      <td>3</td>\n      <td>0</td>\n      <td>NaN</td>\n      <td>2</td>\n      <td>2</td>\n      <td>2.0</td>\n      <td>5.0</td>\n      <td>1</td>\n      <td>2.0</td>\n      <td>7.0</td>\n    </tr>\n    <tr>\n      <th>4</th>\n      <td>9</td>\n      <td>8</td>\n      <td>5.0</td>\n      <td>5</td>\n      <td>3</td>\n      <td>NaN</td>\n      <td>4.0</td>\n      <td>3</td>\n      <td>NaN</td>\n      <td>8.0</td>\n    </tr>\n  </tbody>\n</table>\n</div>"
     },
     "metadata": {},
     "execution_count": 3
    }
   ],
   "source": [
    "df = pd.DataFrame(data=np.random.randint(10,size=(5, 10)))\n",
    "df = df.mask(np.random.random(df.shape) < .1)\n",
    "df.head()"
   ]
  },
  {
   "cell_type": "code",
   "execution_count": 4,
   "metadata": {},
   "outputs": [
    {
     "output_type": "execute_result",
     "data": {
      "text/plain": "(5, 10)"
     },
     "metadata": {},
     "execution_count": 4
    }
   ],
   "source": [
    "df.shape"
   ]
  },
  {
   "cell_type": "markdown",
   "metadata": {},
   "source": [
    "## makeBinaryMatrix"
   ]
  },
  {
   "cell_type": "code",
   "execution_count": 31,
   "metadata": {},
   "outputs": [
    {
     "output_type": "execute_result",
     "data": {
      "text/plain": "             Attributes\nGene Symbol            \n1460               2085\n2012                395\n958                2260\n421                2326\n1230               2555",
      "text/html": "<div>\n<style scoped>\n    .dataframe tbody tr th:only-of-type {\n        vertical-align: middle;\n    }\n\n    .dataframe tbody tr th {\n        vertical-align: top;\n    }\n\n    .dataframe thead th {\n        text-align: right;\n    }\n</style>\n<table border=\"1\" class=\"dataframe\">\n  <thead>\n    <tr style=\"text-align: right;\">\n      <th></th>\n      <th>Attributes</th>\n    </tr>\n    <tr>\n      <th>Gene Symbol</th>\n      <th></th>\n    </tr>\n  </thead>\n  <tbody>\n    <tr>\n      <th>1460</th>\n      <td>2085</td>\n    </tr>\n    <tr>\n      <th>2012</th>\n      <td>395</td>\n    </tr>\n    <tr>\n      <th>958</th>\n      <td>2260</td>\n    </tr>\n    <tr>\n      <th>421</th>\n      <td>2326</td>\n    </tr>\n    <tr>\n      <th>1230</th>\n      <td>2555</td>\n    </tr>\n  </tbody>\n</table>\n</div>"
     },
     "metadata": {},
     "execution_count": 31
    }
   ],
   "source": [
    "df = pd.DataFrame(data=np.random.randint(3000,size=(7500, 2)), columns=['Gene Symbol', 'Attributes'])\n",
    "df = df.set_index('Gene Symbol')\n",
    "df.head()"
   ]
  },
  {
   "cell_type": "code",
   "execution_count": 32,
   "metadata": {
    "tags": []
   },
   "outputs": [
    {
     "output_type": "stream",
     "name": "stdout",
     "text": "\n"
    },
    {
     "output_type": "stream",
     "text": "Filename: ../harmonizome/utility_functions.py\n\nLine #    Mem usage    Increment   Line Contents\n================================================\n   404    883.2 MiB    883.2 MiB   def createBinaryMatrix(df):\n   405                                 '''\n   406                                 Creates an adjacency matrix from df, which is a gene-attribute edge\n   407                                 list.\n   408                                 '''\n   409    883.2 MiB      0.0 MiB       matrix = pd.crosstab(df.index, df.iloc[:, 0]) > 0\n   410    883.2 MiB      0.0 MiB       matrix.index.name = df.index.name\n   411    883.2 MiB      0.0 MiB       matrix.columns.name = df.columns[0]\n   412    883.2 MiB      0.0 MiB       return matrix"
    }
   ],
   "source": [
    "%mprun -f uf.createBinaryMatrix binary_matrix = uf.createBinaryMatrix(df)"
   ]
  },
  {
   "cell_type": "code",
   "execution_count": 33,
   "metadata": {
    "tags": []
   },
   "outputs": [
    {
     "output_type": "stream",
     "name": "stdout",
     "text": "peak memory: 883.25 MiB, increment: 0.00 MiB\n"
    }
   ],
   "source": [
    "%%memit\n",
    "binary_matrix.shape"
   ]
  },
  {
   "cell_type": "code",
   "execution_count": 41,
   "metadata": {
    "tags": []
   },
   "outputs": [
    {
     "output_type": "stream",
     "name": "stdout",
     "text": "\n"
    },
    {
     "output_type": "stream",
     "text": "Filename: ../harmonizome/utility_functions.py\n\nLine #    Mem usage    Increment   Line Contents\n================================================\n   202    883.4 MiB    883.4 MiB   def createSimilarityMatrix(inputDF, metric, dtype=None, sparse=False):\n   203                                 '''\n   204                                 Creates a similarity matrix between the rows of the inputDF based on\n   205                                 the metric specified. The resulting matrix has both rows and columns labeled\n   206                                 by the index of inputDF.\n   207                                 '''\n   208    883.4 MiB      0.0 MiB       if sparse and metric == 'jaccard':\n   209                                     # from na-o-ys on Github\n   210    883.4 MiB      0.0 MiB           sparse = sp.csr_matrix(inputDF.to_numpy(dtype=np.bool).astype(np.int))\n   211    883.4 MiB      0.0 MiB           cols_sum = sparse.getnnz(axis=1)\n   212    883.4 MiB      0.0 MiB           ab = sparse * sparse.T\n   213    883.4 MiB      0.0 MiB           denom = np.repeat(cols_sum, ab.getnnz(axis=1)) + \\\n   214    883.4 MiB      0.0 MiB                   cols_sum[ab.indices] - ab.data\n   215    883.4 MiB      0.0 MiB           ab.data = ab.data / denom\n   216    883.4 MiB      0.0 MiB           similarity_matrix = ab.todense()\n   217    883.4 MiB      0.0 MiB           np.fill_diagonal(similarity_matrix, 1)\n   218                             \n   219                                 else:\n   220                                     similarity_matrix = dist.pdist(inputDF.to_numpy(dtype=dtype), metric)\n   221                                     similarity_matrix = dist.squareform(similarity_matrix)\n   222                                     similarity_matrix = 1 - similarity_matrix\n   223                             \n   224    883.4 MiB      0.0 MiB       similarity_df = pd.DataFrame(\n   225    883.4 MiB      0.0 MiB           data=similarity_matrix, index=inputDF.index, columns=inputDF.index)\n   226    883.4 MiB      0.0 MiB       similarity_df.index.name = None\n   227    883.4 MiB      0.0 MiB       similarity_df.columns.name = None\n   228    883.4 MiB      0.0 MiB       return similarity_df"
    }
   ],
   "source": [
    "%mprun -f uf.createSimilarityMatrix similarityuf = uf.createSimilarityMatrix(binary_matrix, 'jaccard', sparse=True)"
   ]
  },
  {
   "cell_type": "code",
   "execution_count": 35,
   "metadata": {
    "tags": []
   },
   "outputs": [
    {
     "output_type": "stream",
     "name": "stdout",
     "text": "\n"
    },
    {
     "output_type": "stream",
     "text": "Filename: ../harmonizome/utility_functions.py\n\nLine #    Mem usage    Increment   Line Contents\n================================================\n   202    883.2 MiB    883.2 MiB   def createSimilarityMatrix(inputDF, metric, dtype=None, sparse=False):\n   203                                 '''\n   204                                 Creates a similarity matrix between the rows of the inputDF based on\n   205                                 the metric specified. The resulting matrix has both rows and columns labeled\n   206                                 by the index of inputDF.\n   207                                 '''\n   208    883.2 MiB      0.0 MiB       if sparse and metric == 'jaccard':\n   209                                     # from na-o-ys on Github\n   210                                     sparse = sp.csr_matrix(inputDF.to_numpy(dtype=np.bool).astype(np.int))\n   211                                     cols_sum = sparse.getnnz(axis=1)\n   212                                     ab = sparse * sparse.T\n   213                                     denom = np.repeat(cols_sum, ab.getnnz(axis=1)) + \\\n   214                                             cols_sum[ab.indices] - ab.data\n   215                                     ab.data = ab.data / denom\n   216                                     similarity_matrix = ab.todense()\n   217                                     np.fill_diagonal(similarity_matrix, 1)\n   218                             \n   219                                 else:\n   220    883.2 MiB      0.0 MiB           similarity_matrix = dist.pdist(inputDF.to_numpy(dtype=dtype), metric)\n   221    883.2 MiB      0.0 MiB           similarity_matrix = dist.squareform(similarity_matrix)\n   222    883.2 MiB      0.0 MiB           similarity_matrix = 1 - similarity_matrix\n   223                             \n   224    883.2 MiB      0.0 MiB       similarity_df = pd.DataFrame(\n   225    883.2 MiB      0.0 MiB           data=similarity_matrix, index=inputDF.index, columns=inputDF.index)\n   226    883.2 MiB      0.0 MiB       similarity_df.index.name = None\n   227    883.2 MiB      0.0 MiB       similarity_df.columns.name = None\n   228    883.2 MiB      0.0 MiB       return similarity_df"
    }
   ],
   "source": [
    "%mprun -f uf.createSimilarityMatrix similarity_matrix = uf.createSimilarityMatrix(binary_matrix, 'jaccard')"
   ]
  },
  {
   "cell_type": "code",
   "execution_count": 42,
   "metadata": {},
   "outputs": [
    {
     "output_type": "execute_result",
     "data": {
      "text/plain": "True"
     },
     "metadata": {},
     "execution_count": 42
    }
   ],
   "source": [
    "np.allclose(similarityuf, similarity_matrix)"
   ]
  },
  {
   "cell_type": "code",
   "execution_count": 52,
   "metadata": {},
   "outputs": [
    {
     "output_type": "execute_result",
     "data": {
      "text/plain": "           0          1          2          3          4          5     \\\n0      8.124121  11.361396   8.257388  11.506308  11.460456   8.189825   \n1     10.446049  11.027215   3.459432  10.854868  11.445015   4.584963   \n2     11.092096  10.373953   9.800900   7.577429   7.700440  11.329796   \n3     11.086800  11.179909  11.419960   9.741467  10.378295   8.348728   \n4      5.930737  11.354800  10.842350   9.995767  10.043027  11.455327   \n...         ...        ...        ...        ...        ...        ...   \n9995  11.164907  10.310613  11.499348  10.970825  11.438272   5.727920   \n9996   9.129283  10.755722  10.617467   9.383704  11.401413  10.356452   \n9997   8.794416   8.108524  10.511753  10.829723   7.977280  11.401946   \n9998  11.501340  11.492354  10.704768  11.429930   8.861087  10.986553   \n9999   9.315150   8.942515  10.596190   9.623881  11.537704   7.539159   \n\n           6          7          8          9     ...       9990       9991  \\\n0      9.938109  11.401946   9.533330  11.494856  ...  10.665336   8.442943   \n1      9.573647   9.789534  11.201511  10.659996  ...  11.510270   5.643856   \n2     11.240195   9.319672   9.982994   8.599913  ...  10.763212   8.658211   \n3      7.523562  11.243174  11.210671   8.797662  ...  10.689124   9.942515   \n4      9.744834  10.473706   7.948367   8.679480  ...  11.335390  11.348728   \n...         ...        ...        ...        ...  ...        ...        ...   \n9995  10.725366  10.620220  10.449149   8.228819  ...  10.609179  10.109831   \n9996   6.714246  10.556506  10.473706  11.474213  ...  10.980140   9.859535   \n9997  10.741467  10.001408   8.447083  11.209453  ...   8.754888  10.100662   \n9998  10.825754  11.194141  10.908393  11.280191  ...   9.776433  11.443980   \n9999  10.743151  10.813781   9.392317  10.979425  ...  11.042343  11.113091   \n\n           9992       9993       9994       9995       9996       9997  \\\n0     10.202124  11.255619  10.195987  10.729621  10.343186   9.523562   \n1      6.266787  11.126059   7.734710   9.321928  11.415742   8.262095   \n2     10.162391  10.183635  10.045760  10.126704  10.821774  10.711667   \n3     10.871905  10.818582   9.994353  10.702173  11.200899  11.062721   \n4     11.220378  10.926296  11.518653   7.584963   8.592457   8.861087   \n...         ...        ...        ...        ...        ...        ...   \n9995   9.511753   8.758223  11.084144  10.958553   5.727920   5.672425   \n9996  10.435670  11.342630  10.767357   9.481799  10.995767  11.404609   \n9997  11.423641  11.284824  10.428360  11.144658   8.303781   9.722808   \n9998  10.084808  11.309476  10.990104  11.457381   8.562242  10.831307   \n9999   7.707359  11.230020   9.952741   3.906891  11.379920  11.528454   \n\n           9998       9999  \n0     10.253847   6.285402  \n1     11.418380  10.281930  \n2      9.800900  11.429930  \n3     10.675957  11.307770  \n4      7.199672  11.379920  \n...         ...        ...  \n9995  11.474720   8.581201  \n9996   7.417853   9.867279  \n9997  10.694358   9.113742  \n9998  11.481295  10.911392  \n9999   9.400879  10.283088  \n\n[10000 rows x 10000 columns]",
      "text/html": "<div>\n<style scoped>\n    .dataframe tbody tr th:only-of-type {\n        vertical-align: middle;\n    }\n\n    .dataframe tbody tr th {\n        vertical-align: top;\n    }\n\n    .dataframe thead th {\n        text-align: right;\n    }\n</style>\n<table border=\"1\" class=\"dataframe\">\n  <thead>\n    <tr style=\"text-align: right;\">\n      <th></th>\n      <th>0</th>\n      <th>1</th>\n      <th>2</th>\n      <th>3</th>\n      <th>4</th>\n      <th>5</th>\n      <th>6</th>\n      <th>7</th>\n      <th>8</th>\n      <th>9</th>\n      <th>...</th>\n      <th>9990</th>\n      <th>9991</th>\n      <th>9992</th>\n      <th>9993</th>\n      <th>9994</th>\n      <th>9995</th>\n      <th>9996</th>\n      <th>9997</th>\n      <th>9998</th>\n      <th>9999</th>\n    </tr>\n  </thead>\n  <tbody>\n    <tr>\n      <th>0</th>\n      <td>8.124121</td>\n      <td>11.361396</td>\n      <td>8.257388</td>\n      <td>11.506308</td>\n      <td>11.460456</td>\n      <td>8.189825</td>\n      <td>9.938109</td>\n      <td>11.401946</td>\n      <td>9.533330</td>\n      <td>11.494856</td>\n      <td>...</td>\n      <td>10.665336</td>\n      <td>8.442943</td>\n      <td>10.202124</td>\n      <td>11.255619</td>\n      <td>10.195987</td>\n      <td>10.729621</td>\n      <td>10.343186</td>\n      <td>9.523562</td>\n      <td>10.253847</td>\n      <td>6.285402</td>\n    </tr>\n    <tr>\n      <th>1</th>\n      <td>10.446049</td>\n      <td>11.027215</td>\n      <td>3.459432</td>\n      <td>10.854868</td>\n      <td>11.445015</td>\n      <td>4.584963</td>\n      <td>9.573647</td>\n      <td>9.789534</td>\n      <td>11.201511</td>\n      <td>10.659996</td>\n      <td>...</td>\n      <td>11.510270</td>\n      <td>5.643856</td>\n      <td>6.266787</td>\n      <td>11.126059</td>\n      <td>7.734710</td>\n      <td>9.321928</td>\n      <td>11.415742</td>\n      <td>8.262095</td>\n      <td>11.418380</td>\n      <td>10.281930</td>\n    </tr>\n    <tr>\n      <th>2</th>\n      <td>11.092096</td>\n      <td>10.373953</td>\n      <td>9.800900</td>\n      <td>7.577429</td>\n      <td>7.700440</td>\n      <td>11.329796</td>\n      <td>11.240195</td>\n      <td>9.319672</td>\n      <td>9.982994</td>\n      <td>8.599913</td>\n      <td>...</td>\n      <td>10.763212</td>\n      <td>8.658211</td>\n      <td>10.162391</td>\n      <td>10.183635</td>\n      <td>10.045760</td>\n      <td>10.126704</td>\n      <td>10.821774</td>\n      <td>10.711667</td>\n      <td>9.800900</td>\n      <td>11.429930</td>\n    </tr>\n    <tr>\n      <th>3</th>\n      <td>11.086800</td>\n      <td>11.179909</td>\n      <td>11.419960</td>\n      <td>9.741467</td>\n      <td>10.378295</td>\n      <td>8.348728</td>\n      <td>7.523562</td>\n      <td>11.243174</td>\n      <td>11.210671</td>\n      <td>8.797662</td>\n      <td>...</td>\n      <td>10.689124</td>\n      <td>9.942515</td>\n      <td>10.871905</td>\n      <td>10.818582</td>\n      <td>9.994353</td>\n      <td>10.702173</td>\n      <td>11.200899</td>\n      <td>11.062721</td>\n      <td>10.675957</td>\n      <td>11.307770</td>\n    </tr>\n    <tr>\n      <th>4</th>\n      <td>5.930737</td>\n      <td>11.354800</td>\n      <td>10.842350</td>\n      <td>9.995767</td>\n      <td>10.043027</td>\n      <td>11.455327</td>\n      <td>9.744834</td>\n      <td>10.473706</td>\n      <td>7.948367</td>\n      <td>8.679480</td>\n      <td>...</td>\n      <td>11.335390</td>\n      <td>11.348728</td>\n      <td>11.220378</td>\n      <td>10.926296</td>\n      <td>11.518653</td>\n      <td>7.584963</td>\n      <td>8.592457</td>\n      <td>8.861087</td>\n      <td>7.199672</td>\n      <td>11.379920</td>\n    </tr>\n    <tr>\n      <th>...</th>\n      <td>...</td>\n      <td>...</td>\n      <td>...</td>\n      <td>...</td>\n      <td>...</td>\n      <td>...</td>\n      <td>...</td>\n      <td>...</td>\n      <td>...</td>\n      <td>...</td>\n      <td>...</td>\n      <td>...</td>\n      <td>...</td>\n      <td>...</td>\n      <td>...</td>\n      <td>...</td>\n      <td>...</td>\n      <td>...</td>\n      <td>...</td>\n      <td>...</td>\n      <td>...</td>\n    </tr>\n    <tr>\n      <th>9995</th>\n      <td>11.164907</td>\n      <td>10.310613</td>\n      <td>11.499348</td>\n      <td>10.970825</td>\n      <td>11.438272</td>\n      <td>5.727920</td>\n      <td>10.725366</td>\n      <td>10.620220</td>\n      <td>10.449149</td>\n      <td>8.228819</td>\n      <td>...</td>\n      <td>10.609179</td>\n      <td>10.109831</td>\n      <td>9.511753</td>\n      <td>8.758223</td>\n      <td>11.084144</td>\n      <td>10.958553</td>\n      <td>5.727920</td>\n      <td>5.672425</td>\n      <td>11.474720</td>\n      <td>8.581201</td>\n    </tr>\n    <tr>\n      <th>9996</th>\n      <td>9.129283</td>\n      <td>10.755722</td>\n      <td>10.617467</td>\n      <td>9.383704</td>\n      <td>11.401413</td>\n      <td>10.356452</td>\n      <td>6.714246</td>\n      <td>10.556506</td>\n      <td>10.473706</td>\n      <td>11.474213</td>\n      <td>...</td>\n      <td>10.980140</td>\n      <td>9.859535</td>\n      <td>10.435670</td>\n      <td>11.342630</td>\n      <td>10.767357</td>\n      <td>9.481799</td>\n      <td>10.995767</td>\n      <td>11.404609</td>\n      <td>7.417853</td>\n      <td>9.867279</td>\n    </tr>\n    <tr>\n      <th>9997</th>\n      <td>8.794416</td>\n      <td>8.108524</td>\n      <td>10.511753</td>\n      <td>10.829723</td>\n      <td>7.977280</td>\n      <td>11.401946</td>\n      <td>10.741467</td>\n      <td>10.001408</td>\n      <td>8.447083</td>\n      <td>11.209453</td>\n      <td>...</td>\n      <td>8.754888</td>\n      <td>10.100662</td>\n      <td>11.423641</td>\n      <td>11.284824</td>\n      <td>10.428360</td>\n      <td>11.144658</td>\n      <td>8.303781</td>\n      <td>9.722808</td>\n      <td>10.694358</td>\n      <td>9.113742</td>\n    </tr>\n    <tr>\n      <th>9998</th>\n      <td>11.501340</td>\n      <td>11.492354</td>\n      <td>10.704768</td>\n      <td>11.429930</td>\n      <td>8.861087</td>\n      <td>10.986553</td>\n      <td>10.825754</td>\n      <td>11.194141</td>\n      <td>10.908393</td>\n      <td>11.280191</td>\n      <td>...</td>\n      <td>9.776433</td>\n      <td>11.443980</td>\n      <td>10.084808</td>\n      <td>11.309476</td>\n      <td>10.990104</td>\n      <td>11.457381</td>\n      <td>8.562242</td>\n      <td>10.831307</td>\n      <td>11.481295</td>\n      <td>10.911392</td>\n    </tr>\n    <tr>\n      <th>9999</th>\n      <td>9.315150</td>\n      <td>8.942515</td>\n      <td>10.596190</td>\n      <td>9.623881</td>\n      <td>11.537704</td>\n      <td>7.539159</td>\n      <td>10.743151</td>\n      <td>10.813781</td>\n      <td>9.392317</td>\n      <td>10.979425</td>\n      <td>...</td>\n      <td>11.042343</td>\n      <td>11.113091</td>\n      <td>7.707359</td>\n      <td>11.230020</td>\n      <td>9.952741</td>\n      <td>3.906891</td>\n      <td>11.379920</td>\n      <td>11.528454</td>\n      <td>9.400879</td>\n      <td>10.283088</td>\n    </tr>\n  </tbody>\n</table>\n<p>10000 rows × 10000 columns</p>\n</div>"
     },
     "metadata": {},
     "execution_count": 52
    }
   ],
   "source": [
    "df = pd.DataFrame(data=np.random.randint(3000,size=(10000, 10000)))\n",
    "np.log2(df + 1)"
   ]
  },
  {
   "cell_type": "code",
   "execution_count": 53,
   "metadata": {
    "tags": []
   },
   "outputs": [
    {
     "output_type": "execute_result",
     "data": {
      "text/plain": "          0         1         2         3         4         5         6     \\\n0    -1.082608  1.026998 -1.058391  1.276348  1.194726 -1.070948 -0.452955   \n1    -0.071524  0.554991 -1.324555  0.342230  1.189655 -1.312785 -0.644623   \n2     0.632372 -0.134900 -0.524810 -1.153149 -1.137911  0.982843  0.843909   \n3     0.633299  0.767550  1.156418 -0.587931 -0.148140 -1.078644 -1.210119   \n4    -1.298163  1.024005  0.313193 -0.426669 -0.395803  1.195581 -0.574641   \n...        ...       ...       ...       ...       ...       ...       ...   \n9995  0.717496 -0.201544  1.254050  0.458624  1.146560 -1.291672  0.177359   \n9996 -0.841225  0.203825  0.062578 -0.744677  1.076339 -0.169854 -1.247981   \n9997 -0.964353 -1.117482 -0.038282  0.289853 -1.139358  1.097430  0.191412   \n9998  1.259214  1.243291  0.171168  1.135371 -0.893878  0.489621  0.300318   \n9999 -0.760051 -0.890628  0.060336 -0.623170  1.343597 -1.166192  0.209824   \n\n          7         8         9     ...      9990      9991      9992  \\\n0     1.094269 -0.668221  1.255718  ...  0.123778 -1.020719 -0.276258   \n1    -0.533262  0.797630  0.130373  ...  1.306448 -1.289246 -1.264801   \n2    -0.751586 -0.417249 -0.976568  ...  0.233498 -0.962227 -0.297139   \n3     0.863841  0.813844 -0.968465  ...  0.148140 -0.469419  0.354610   \n4    -0.062639 -1.129311 -0.981338  ...  0.992232  1.014020  0.812487   \n...        ...       ...       ...  ...       ...       ...       ...   \n9995  0.070764 -0.086888 -1.070422  ...  0.060015 -0.349343 -0.685249   \n9996  0.004470 -0.070624  1.201495  ...  0.463970 -0.511351 -0.103700   \n9997 -0.434779 -1.050944  0.789347  ... -0.975291 -0.368241  1.134801   \n9998  0.767382  0.394970  0.894763  ... -0.529427  1.159255 -0.344548   \n9999  0.287270 -0.728532  0.484487  ...  0.565535  0.660992 -1.145479   \n\n          9993      9994      9995      9996      9997      9998      9999  \n0     0.860167 -0.280743  0.190152 -0.167728 -0.672706 -0.237689 -1.262894  \n1     0.688986 -1.141670 -0.755078  1.138954 -1.056566  1.143481 -0.207330  \n2    -0.281901 -0.376913 -0.322236  0.298035  0.178821 -0.524810  1.148667  \n3     0.291651 -0.436087  0.162028  0.799030  0.599967  0.134252  0.966614  \n4     0.413052  1.309964 -1.179240 -1.003126 -0.931409 -1.220092  1.065764  \n...        ...       ...       ...       ...       ...       ...       ...  \n9995 -0.951287  0.605527  0.443396 -1.291672 -1.293463  1.210159 -0.996074  \n9996  0.979791  0.216341 -0.702660  0.483638  1.081703 -1.188979 -0.506881  \n9997  0.905106 -0.113024  0.694553 -1.081023 -0.598847  0.141280 -0.864089  \n9998  0.939877  0.494044  1.182255 -0.970838  0.306510  1.223830  0.398508  \n9999  0.829392 -0.441262 -1.320183  1.066232  1.326487 -0.724930 -0.211626  \n\n[10000 rows x 10000 columns]",
      "text/html": "<div>\n<style scoped>\n    .dataframe tbody tr th:only-of-type {\n        vertical-align: middle;\n    }\n\n    .dataframe tbody tr th {\n        vertical-align: top;\n    }\n\n    .dataframe thead th {\n        text-align: right;\n    }\n</style>\n<table border=\"1\" class=\"dataframe\">\n  <thead>\n    <tr style=\"text-align: right;\">\n      <th></th>\n      <th>0</th>\n      <th>1</th>\n      <th>2</th>\n      <th>3</th>\n      <th>4</th>\n      <th>5</th>\n      <th>6</th>\n      <th>7</th>\n      <th>8</th>\n      <th>9</th>\n      <th>...</th>\n      <th>9990</th>\n      <th>9991</th>\n      <th>9992</th>\n      <th>9993</th>\n      <th>9994</th>\n      <th>9995</th>\n      <th>9996</th>\n      <th>9997</th>\n      <th>9998</th>\n      <th>9999</th>\n    </tr>\n  </thead>\n  <tbody>\n    <tr>\n      <th>0</th>\n      <td>-1.082608</td>\n      <td>1.026998</td>\n      <td>-1.058391</td>\n      <td>1.276348</td>\n      <td>1.194726</td>\n      <td>-1.070948</td>\n      <td>-0.452955</td>\n      <td>1.094269</td>\n      <td>-0.668221</td>\n      <td>1.255718</td>\n      <td>...</td>\n      <td>0.123778</td>\n      <td>-1.020719</td>\n      <td>-0.276258</td>\n      <td>0.860167</td>\n      <td>-0.280743</td>\n      <td>0.190152</td>\n      <td>-0.167728</td>\n      <td>-0.672706</td>\n      <td>-0.237689</td>\n      <td>-1.262894</td>\n    </tr>\n    <tr>\n      <th>1</th>\n      <td>-0.071524</td>\n      <td>0.554991</td>\n      <td>-1.324555</td>\n      <td>0.342230</td>\n      <td>1.189655</td>\n      <td>-1.312785</td>\n      <td>-0.644623</td>\n      <td>-0.533262</td>\n      <td>0.797630</td>\n      <td>0.130373</td>\n      <td>...</td>\n      <td>1.306448</td>\n      <td>-1.289246</td>\n      <td>-1.264801</td>\n      <td>0.688986</td>\n      <td>-1.141670</td>\n      <td>-0.755078</td>\n      <td>1.138954</td>\n      <td>-1.056566</td>\n      <td>1.143481</td>\n      <td>-0.207330</td>\n    </tr>\n    <tr>\n      <th>2</th>\n      <td>0.632372</td>\n      <td>-0.134900</td>\n      <td>-0.524810</td>\n      <td>-1.153149</td>\n      <td>-1.137911</td>\n      <td>0.982843</td>\n      <td>0.843909</td>\n      <td>-0.751586</td>\n      <td>-0.417249</td>\n      <td>-0.976568</td>\n      <td>...</td>\n      <td>0.233498</td>\n      <td>-0.962227</td>\n      <td>-0.297139</td>\n      <td>-0.281901</td>\n      <td>-0.376913</td>\n      <td>-0.322236</td>\n      <td>0.298035</td>\n      <td>0.178821</td>\n      <td>-0.524810</td>\n      <td>1.148667</td>\n    </tr>\n    <tr>\n      <th>3</th>\n      <td>0.633299</td>\n      <td>0.767550</td>\n      <td>1.156418</td>\n      <td>-0.587931</td>\n      <td>-0.148140</td>\n      <td>-1.078644</td>\n      <td>-1.210119</td>\n      <td>0.863841</td>\n      <td>0.813844</td>\n      <td>-0.968465</td>\n      <td>...</td>\n      <td>0.148140</td>\n      <td>-0.469419</td>\n      <td>0.354610</td>\n      <td>0.291651</td>\n      <td>-0.436087</td>\n      <td>0.162028</td>\n      <td>0.799030</td>\n      <td>0.599967</td>\n      <td>0.134252</td>\n      <td>0.966614</td>\n    </tr>\n    <tr>\n      <th>4</th>\n      <td>-1.298163</td>\n      <td>1.024005</td>\n      <td>0.313193</td>\n      <td>-0.426669</td>\n      <td>-0.395803</td>\n      <td>1.195581</td>\n      <td>-0.574641</td>\n      <td>-0.062639</td>\n      <td>-1.129311</td>\n      <td>-0.981338</td>\n      <td>...</td>\n      <td>0.992232</td>\n      <td>1.014020</td>\n      <td>0.812487</td>\n      <td>0.413052</td>\n      <td>1.309964</td>\n      <td>-1.179240</td>\n      <td>-1.003126</td>\n      <td>-0.931409</td>\n      <td>-1.220092</td>\n      <td>1.065764</td>\n    </tr>\n    <tr>\n      <th>...</th>\n      <td>...</td>\n      <td>...</td>\n      <td>...</td>\n      <td>...</td>\n      <td>...</td>\n      <td>...</td>\n      <td>...</td>\n      <td>...</td>\n      <td>...</td>\n      <td>...</td>\n      <td>...</td>\n      <td>...</td>\n      <td>...</td>\n      <td>...</td>\n      <td>...</td>\n      <td>...</td>\n      <td>...</td>\n      <td>...</td>\n      <td>...</td>\n      <td>...</td>\n      <td>...</td>\n    </tr>\n    <tr>\n      <th>9995</th>\n      <td>0.717496</td>\n      <td>-0.201544</td>\n      <td>1.254050</td>\n      <td>0.458624</td>\n      <td>1.146560</td>\n      <td>-1.291672</td>\n      <td>0.177359</td>\n      <td>0.070764</td>\n      <td>-0.086888</td>\n      <td>-1.070422</td>\n      <td>...</td>\n      <td>0.060015</td>\n      <td>-0.349343</td>\n      <td>-0.685249</td>\n      <td>-0.951287</td>\n      <td>0.605527</td>\n      <td>0.443396</td>\n      <td>-1.291672</td>\n      <td>-1.293463</td>\n      <td>1.210159</td>\n      <td>-0.996074</td>\n    </tr>\n    <tr>\n      <th>9996</th>\n      <td>-0.841225</td>\n      <td>0.203825</td>\n      <td>0.062578</td>\n      <td>-0.744677</td>\n      <td>1.076339</td>\n      <td>-0.169854</td>\n      <td>-1.247981</td>\n      <td>0.004470</td>\n      <td>-0.070624</td>\n      <td>1.201495</td>\n      <td>...</td>\n      <td>0.463970</td>\n      <td>-0.511351</td>\n      <td>-0.103700</td>\n      <td>0.979791</td>\n      <td>0.216341</td>\n      <td>-0.702660</td>\n      <td>0.483638</td>\n      <td>1.081703</td>\n      <td>-1.188979</td>\n      <td>-0.506881</td>\n    </tr>\n    <tr>\n      <th>9997</th>\n      <td>-0.964353</td>\n      <td>-1.117482</td>\n      <td>-0.038282</td>\n      <td>0.289853</td>\n      <td>-1.139358</td>\n      <td>1.097430</td>\n      <td>0.191412</td>\n      <td>-0.434779</td>\n      <td>-1.050944</td>\n      <td>0.789347</td>\n      <td>...</td>\n      <td>-0.975291</td>\n      <td>-0.368241</td>\n      <td>1.134801</td>\n      <td>0.905106</td>\n      <td>-0.113024</td>\n      <td>0.694553</td>\n      <td>-1.081023</td>\n      <td>-0.598847</td>\n      <td>0.141280</td>\n      <td>-0.864089</td>\n    </tr>\n    <tr>\n      <th>9998</th>\n      <td>1.259214</td>\n      <td>1.243291</td>\n      <td>0.171168</td>\n      <td>1.135371</td>\n      <td>-0.893878</td>\n      <td>0.489621</td>\n      <td>0.300318</td>\n      <td>0.767382</td>\n      <td>0.394970</td>\n      <td>0.894763</td>\n      <td>...</td>\n      <td>-0.529427</td>\n      <td>1.159255</td>\n      <td>-0.344548</td>\n      <td>0.939877</td>\n      <td>0.494044</td>\n      <td>1.182255</td>\n      <td>-0.970838</td>\n      <td>0.306510</td>\n      <td>1.223830</td>\n      <td>0.398508</td>\n    </tr>\n    <tr>\n      <th>9999</th>\n      <td>-0.760051</td>\n      <td>-0.890628</td>\n      <td>0.060336</td>\n      <td>-0.623170</td>\n      <td>1.343597</td>\n      <td>-1.166192</td>\n      <td>0.209824</td>\n      <td>0.287270</td>\n      <td>-0.728532</td>\n      <td>0.484487</td>\n      <td>...</td>\n      <td>0.565535</td>\n      <td>0.660992</td>\n      <td>-1.145479</td>\n      <td>0.829392</td>\n      <td>-0.441262</td>\n      <td>-1.320183</td>\n      <td>1.066232</td>\n      <td>1.326487</td>\n      <td>-0.724930</td>\n      <td>-0.211626</td>\n    </tr>\n  </tbody>\n</table>\n<p>10000 rows × 10000 columns</p>\n</div>"
     },
     "metadata": {},
     "execution_count": 53
    }
   ],
   "source": [
    "uf.zscore(df)"
   ]
  },
  {
   "cell_type": "code",
   "execution_count": null,
   "metadata": {},
   "outputs": [],
   "source": []
  }
 ],
 "metadata": {
  "language_info": {
   "codemirror_mode": {
    "name": "ipython",
    "version": 3
   },
   "file_extension": ".py",
   "mimetype": "text/x-python",
   "name": "python",
   "nbconvert_exporter": "python",
   "pygments_lexer": "ipython3",
   "version": "3.8.0-final"
  },
  "orig_nbformat": 2,
  "kernelspec": {
   "name": "python38064bitd624481654e24397bc0561c80541aebb",
   "display_name": "Python 3.8.0 64-bit"
  }
 },
 "nbformat": 4,
 "nbformat_minor": 2
}