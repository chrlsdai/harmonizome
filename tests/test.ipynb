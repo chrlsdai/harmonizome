{
 "cells": [
  {
   "cell_type": "code",
   "execution_count": 1,
   "metadata": {
    "tags": []
   },
   "outputs": [],
   "source": [
    "import sys\n",
    "sys.path.append('../harmonizome')\n",
    "\n",
    "import pandas as pd\n",
    "import numpy as np\n",
    "import utility_functions as uf\n",
    "import timeit\n",
    "import itertools\n",
    "import scipy.spatial.distance as dist"
   ]
  },
  {
   "cell_type": "code",
   "execution_count": 2,
   "metadata": {
    "tags": []
   },
   "outputs": [],
   "source": [
    "%load_ext autoreload\n",
    "%load_ext memory_profiler\n",
    "%autoreload 2"
   ]
  },
  {
   "cell_type": "markdown",
   "metadata": {},
   "source": [
    "### removeAndInpute"
   ]
  },
  {
   "cell_type": "code",
   "execution_count": 3,
   "metadata": {},
   "outputs": [
    {
     "output_type": "execute_result",
     "data": {
      "text/plain": "   0  1    2  3  4    5    6  7    8    9\n0  2  1  7.0  3  6  NaN  4.0  2  8.0  3.0\n1  6  8  5.0  0  4  3.0  NaN  5  8.0  NaN\n2  5  8  2.0  7  2  7.0  1.0  0  6.0  6.0\n3  3  0  NaN  2  2  2.0  5.0  1  2.0  7.0\n4  9  8  5.0  5  3  NaN  4.0  3  NaN  8.0",
      "text/html": "<div>\n<style scoped>\n    .dataframe tbody tr th:only-of-type {\n        vertical-align: middle;\n    }\n\n    .dataframe tbody tr th {\n        vertical-align: top;\n    }\n\n    .dataframe thead th {\n        text-align: right;\n    }\n</style>\n<table border=\"1\" class=\"dataframe\">\n  <thead>\n    <tr style=\"text-align: right;\">\n      <th></th>\n      <th>0</th>\n      <th>1</th>\n      <th>2</th>\n      <th>3</th>\n      <th>4</th>\n      <th>5</th>\n      <th>6</th>\n      <th>7</th>\n      <th>8</th>\n      <th>9</th>\n    </tr>\n  </thead>\n  <tbody>\n    <tr>\n      <th>0</th>\n      <td>2</td>\n      <td>1</td>\n      <td>7.0</td>\n      <td>3</td>\n      <td>6</td>\n      <td>NaN</td>\n      <td>4.0</td>\n      <td>2</td>\n      <td>8.0</td>\n      <td>3.0</td>\n    </tr>\n    <tr>\n      <th>1</th>\n      <td>6</td>\n      <td>8</td>\n      <td>5.0</td>\n      <td>0</td>\n      <td>4</td>\n      <td>3.0</td>\n      <td>NaN</td>\n      <td>5</td>\n      <td>8.0</td>\n      <td>NaN</td>\n    </tr>\n    <tr>\n      <th>2</th>\n      <td>5</td>\n      <td>8</td>\n      <td>2.0</td>\n      <td>7</td>\n      <td>2</td>\n      <td>7.0</td>\n      <td>1.0</td>\n      <td>0</td>\n      <td>6.0</td>\n      <td>6.0</td>\n    </tr>\n    <tr>\n      <th>3</th>\n      <td>3</td>\n      <td>0</td>\n      <td>NaN</td>\n      <td>2</td>\n      <td>2</td>\n      <td>2.0</td>\n      <td>5.0</td>\n      <td>1</td>\n      <td>2.0</td>\n      <td>7.0</td>\n    </tr>\n    <tr>\n      <th>4</th>\n      <td>9</td>\n      <td>8</td>\n      <td>5.0</td>\n      <td>5</td>\n      <td>3</td>\n      <td>NaN</td>\n      <td>4.0</td>\n      <td>3</td>\n      <td>NaN</td>\n      <td>8.0</td>\n    </tr>\n  </tbody>\n</table>\n</div>"
     },
     "metadata": {},
     "execution_count": 3
    }
   ],
   "source": [
    "df = pd.DataFrame(data=np.random.randint(10,size=(5, 10)))\n",
    "df = df.mask(np.random.random(df.shape) < .1)\n",
    "df.head()"
   ]
  },
  {
   "cell_type": "code",
   "execution_count": 4,
   "metadata": {},
   "outputs": [
    {
     "output_type": "execute_result",
     "data": {
      "text/plain": "(5, 10)"
     },
     "metadata": {},
     "execution_count": 4
    }
   ],
   "source": [
    "df.shape"
   ]
  },
  {
   "cell_type": "markdown",
   "metadata": {},
   "source": [
    "## makeBinaryMatrix"
   ]
  },
  {
   "cell_type": "code",
   "execution_count": 31,
   "metadata": {},
   "outputs": [
    {
     "output_type": "execute_result",
     "data": {
      "text/plain": "             Attributes\nGene Symbol            \n1460               2085\n2012                395\n958                2260\n421                2326\n1230               2555",
      "text/html": "<div>\n<style scoped>\n    .dataframe tbody tr th:only-of-type {\n        vertical-align: middle;\n    }\n\n    .dataframe tbody tr th {\n        vertical-align: top;\n    }\n\n    .dataframe thead th {\n        text-align: right;\n    }\n</style>\n<table border=\"1\" class=\"dataframe\">\n  <thead>\n    <tr style=\"text-align: right;\">\n      <th></th>\n      <th>Attributes</th>\n    </tr>\n    <tr>\n      <th>Gene Symbol</th>\n      <th></th>\n    </tr>\n  </thead>\n  <tbody>\n    <tr>\n      <th>1460</th>\n      <td>2085</td>\n    </tr>\n    <tr>\n      <th>2012</th>\n      <td>395</td>\n    </tr>\n    <tr>\n      <th>958</th>\n      <td>2260</td>\n    </tr>\n    <tr>\n      <th>421</th>\n      <td>2326</td>\n    </tr>\n    <tr>\n      <th>1230</th>\n      <td>2555</td>\n    </tr>\n  </tbody>\n</table>\n</div>"
     },
     "metadata": {},
     "execution_count": 31
    }
   ],
   "source": [
    "df = pd.DataFrame(data=np.random.randint(3000,size=(7500, 2)), columns=['Gene Symbol', 'Attributes'])\n",
    "df = df.set_index('Gene Symbol')\n",
    "df.head()"
   ]
  },
  {
   "cell_type": "code",
   "execution_count": 32,
   "metadata": {
    "tags": []
   },
   "outputs": [
    {
     "output_type": "stream",
     "name": "stdout",
     "text": "\n"
    },
    {
     "output_type": "stream",
     "text": "Filename: ../harmonizome/utility_functions.py\n\nLine #    Mem usage    Increment   Line Contents\n================================================\n   404    883.2 MiB    883.2 MiB   def createBinaryMatrix(df):\n   405                                 '''\n   406                                 Creates an adjacency matrix from df, which is a gene-attribute edge\n   407                                 list.\n   408                                 '''\n   409    883.2 MiB      0.0 MiB       matrix = pd.crosstab(df.index, df.iloc[:, 0]) > 0\n   410    883.2 MiB      0.0 MiB       matrix.index.name = df.index.name\n   411    883.2 MiB      0.0 MiB       matrix.columns.name = df.columns[0]\n   412    883.2 MiB      0.0 MiB       return matrix"
    }
   ],
   "source": [
    "%mprun -f uf.createBinaryMatrix binary_matrix = uf.createBinaryMatrix(df)"
   ]
  },
  {
   "cell_type": "code",
   "execution_count": 33,
   "metadata": {
    "tags": []
   },
   "outputs": [
    {
     "output_type": "stream",
     "name": "stdout",
     "text": "peak memory: 883.25 MiB, increment: 0.00 MiB\n"
    }
   ],
   "source": [
    "%%memit\n",
    "binary_matrix.shape"
   ]
  },
  {
   "cell_type": "code",
   "execution_count": 41,
   "metadata": {
    "tags": []
   },
   "outputs": [
    {
     "output_type": "stream",
     "name": "stdout",
     "text": "\n"
    },
    {
     "output_type": "stream",
     "text": "Filename: ../harmonizome/utility_functions.py\n\nLine #    Mem usage    Increment   Line Contents\n================================================\n   202    883.4 MiB    883.4 MiB   def createSimilarityMatrix(inputDF, metric, dtype=None, sparse=False):\n   203                                 '''\n   204                                 Creates a similarity matrix between the rows of the inputDF based on\n   205                                 the metric specified. The resulting matrix has both rows and columns labeled\n   206                                 by the index of inputDF.\n   207                                 '''\n   208    883.4 MiB      0.0 MiB       if sparse and metric == 'jaccard':\n   209                                     # from na-o-ys on Github\n   210    883.4 MiB      0.0 MiB           sparse = sp.csr_matrix(inputDF.to_numpy(dtype=np.bool).astype(np.int))\n   211    883.4 MiB      0.0 MiB           cols_sum = sparse.getnnz(axis=1)\n   212    883.4 MiB      0.0 MiB           ab = sparse * sparse.T\n   213    883.4 MiB      0.0 MiB           denom = np.repeat(cols_sum, ab.getnnz(axis=1)) + \\\n   214    883.4 MiB      0.0 MiB                   cols_sum[ab.indices] - ab.data\n   215    883.4 MiB      0.0 MiB           ab.data = ab.data / denom\n   216    883.4 MiB      0.0 MiB           similarity_matrix = ab.todense()\n   217    883.4 MiB      0.0 MiB           np.fill_diagonal(similarity_matrix, 1)\n   218                             \n   219                                 else:\n   220                                     similarity_matrix = dist.pdist(inputDF.to_numpy(dtype=dtype), metric)\n   221                                     similarity_matrix = dist.squareform(similarity_matrix)\n   222                                     similarity_matrix = 1 - similarity_matrix\n   223                             \n   224    883.4 MiB      0.0 MiB       similarity_df = pd.DataFrame(\n   225    883.4 MiB      0.0 MiB           data=similarity_matrix, index=inputDF.index, columns=inputDF.index)\n   226    883.4 MiB      0.0 MiB       similarity_df.index.name = None\n   227    883.4 MiB      0.0 MiB       similarity_df.columns.name = None\n   228    883.4 MiB      0.0 MiB       return similarity_df"
    }
   ],
   "source": [
    "%mprun -f uf.createSimilarityMatrix similarityuf = uf.createSimilarityMatrix(binary_matrix, 'jaccard', sparse=True)"
   ]
  },
  {
   "cell_type": "code",
   "execution_count": 35,
   "metadata": {
    "tags": []
   },
   "outputs": [
    {
     "output_type": "stream",
     "name": "stdout",
     "text": "\n"
    },
    {
     "output_type": "stream",
     "text": "Filename: ../harmonizome/utility_functions.py\n\nLine #    Mem usage    Increment   Line Contents\n================================================\n   202    883.2 MiB    883.2 MiB   def createSimilarityMatrix(inputDF, metric, dtype=None, sparse=False):\n   203                                 '''\n   204                                 Creates a similarity matrix between the rows of the inputDF based on\n   205                                 the metric specified. The resulting matrix has both rows and columns labeled\n   206                                 by the index of inputDF.\n   207                                 '''\n   208    883.2 MiB      0.0 MiB       if sparse and metric == 'jaccard':\n   209                                     # from na-o-ys on Github\n   210                                     sparse = sp.csr_matrix(inputDF.to_numpy(dtype=np.bool).astype(np.int))\n   211                                     cols_sum = sparse.getnnz(axis=1)\n   212                                     ab = sparse * sparse.T\n   213                                     denom = np.repeat(cols_sum, ab.getnnz(axis=1)) + \\\n   214                                             cols_sum[ab.indices] - ab.data\n   215                                     ab.data = ab.data / denom\n   216                                     similarity_matrix = ab.todense()\n   217                                     np.fill_diagonal(similarity_matrix, 1)\n   218                             \n   219                                 else:\n   220    883.2 MiB      0.0 MiB           similarity_matrix = dist.pdist(inputDF.to_numpy(dtype=dtype), metric)\n   221    883.2 MiB      0.0 MiB           similarity_matrix = dist.squareform(similarity_matrix)\n   222    883.2 MiB      0.0 MiB           similarity_matrix = 1 - similarity_matrix\n   223                             \n   224    883.2 MiB      0.0 MiB       similarity_df = pd.DataFrame(\n   225    883.2 MiB      0.0 MiB           data=similarity_matrix, index=inputDF.index, columns=inputDF.index)\n   226    883.2 MiB      0.0 MiB       similarity_df.index.name = None\n   227    883.2 MiB      0.0 MiB       similarity_df.columns.name = None\n   228    883.2 MiB      0.0 MiB       return similarity_df"
    }
   ],
   "source": [
    "%mprun -f uf.createSimilarityMatrix similarity_matrix = uf.createSimilarityMatrix(binary_matrix, 'jaccard')"
   ]
  },
  {
   "cell_type": "code",
   "execution_count": 42,
   "metadata": {},
   "outputs": [
    {
     "output_type": "execute_result",
     "data": {
      "text/plain": "True"
     },
     "metadata": {},
     "execution_count": 42
    }
   ],
   "source": [
    "np.allclose(similarityuf, similarity_matrix)"
   ]
  },
  {
   "cell_type": "code",
   "execution_count": null,
   "metadata": {},
   "outputs": [],
   "source": []
  }
 ],
 "metadata": {
  "language_info": {
   "codemirror_mode": {
    "name": "ipython",
    "version": 3
   },
   "file_extension": ".py",
   "mimetype": "text/x-python",
   "name": "python",
   "nbconvert_exporter": "python",
   "pygments_lexer": "ipython3",
   "version": "3.8.0-final"
  },
  "orig_nbformat": 2,
  "kernelspec": {
   "name": "python38064bitd624481654e24397bc0561c80541aebb",
   "display_name": "Python 3.8.0 64-bit"
  }
 },
 "nbformat": 4,
 "nbformat_minor": 2
}